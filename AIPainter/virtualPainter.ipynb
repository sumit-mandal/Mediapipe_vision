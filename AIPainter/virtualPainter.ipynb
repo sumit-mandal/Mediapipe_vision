{
 "cells": [
  {
   "cell_type": "code",
   "execution_count": 39,
   "id": "84764e74-3dbb-41b8-af72-0ee8619961f7",
   "metadata": {},
   "outputs": [],
   "source": [
    "import cv2\n",
    "import numpy as np\n",
    "import time\n",
    "import sys\n",
    "import os\n",
    "\n"
   ]
  },
  {
   "cell_type": "code",
   "execution_count": 40,
   "id": "c5bde757-8031-4bde-bda6-a4505ebc4259",
   "metadata": {},
   "outputs": [],
   "source": [
    "brushThickness = 10\n",
    "eraserThickness = 40"
   ]
  },
  {
   "cell_type": "code",
   "execution_count": 41,
   "id": "93a6a151-afd0-48a0-9f43-a89b107c74fe",
   "metadata": {},
   "outputs": [],
   "source": [
    "sys.path.append('D:/ComputerVision_MultipleProj/HandTrackingProject')\n",
    "import HandTrackingModule as htm\n"
   ]
  },
  {
   "cell_type": "code",
   "execution_count": 44,
   "id": "6577324e-b45d-478a-9803-7dc2d806d23b",
   "metadata": {},
   "outputs": [
    {
     "name": "stdout",
     "output_type": "stream",
     "text": [
      "['1.jpg', '2.jpg', '3.jpg', '4.jpg']\n"
     ]
    }
   ],
   "source": [
    "folderPath = 'Header'\n",
    "myList = os.listdir(folderPath)\n",
    "print(myList)\n",
    "overlayList = []"
   ]
  },
  {
   "cell_type": "code",
   "execution_count": 45,
   "id": "7b90c3c8-546d-4576-9ce0-c9231d3fe4b6",
   "metadata": {},
   "outputs": [],
   "source": [
    "for imPath in myList:\n",
    "    image = cv2.imread(f'{folderPath}/{imPath}')\n",
    "    overlayList.append(image)\n",
    "    \n",
    "    \n",
    "    "
   ]
  },
  {
   "cell_type": "code",
   "execution_count": 46,
   "id": "96034d2a-8b71-498f-8abf-94e30f99aa1e",
   "metadata": {},
   "outputs": [
    {
     "name": "stdout",
     "output_type": "stream",
     "text": [
      "4\n"
     ]
    }
   ],
   "source": [
    "print(len(overlayList))"
   ]
  },
  {
   "cell_type": "code",
   "execution_count": 50,
   "id": "83a244b3-3824-4b78-ba4f-f06f824c66f0",
   "metadata": {},
   "outputs": [],
   "source": [
    "header = overlayList[0]\n",
    "drawColor = (0,0,255)\n",
    "\n",
    "cap = cv2.VideoCapture(0)\n",
    "cap.set(3,1280)\n",
    "cap.set(4,720)\n",
    "detector = htm.handDetector(detectionCon=0.80)\n",
    "xp,yp = 0,0\n",
    "imgCanvas = np.zeros((720,1280,3),np.uint8)\n",
    "while cap.isOpened():\n",
    "    # 1. import image\n",
    "    success,img = cap.read()\n",
    "    img = cv2.flip(img,1)\n",
    "    \n",
    "    if success == True:\n",
    "        # 2. Find Hand Landmarks\n",
    "        img = detector.findHands(img)\n",
    "        lmList = detector.findPosition(img, draw=False)\n",
    "        \n",
    "        if len(lmList)!= 0:\n",
    "            \n",
    "#             print(lmList)\n",
    "            \n",
    "            # tip of index and middle finger\n",
    "            x1,y1 = lmList[8][1:]\n",
    "            x2,y2 = lmList[12][1:]\n",
    "        \n",
    "            # 3. Check which fingers are up\n",
    "            fingers = detector.fingersUp()\n",
    "#             print(fingers)\n",
    "            \n",
    "            # 4. If selection mode - Two fingers are up\n",
    "            if fingers[1] and fingers[2]:\n",
    "                xp,yp = 0,0\n",
    "                print(\"selection mode\")\n",
    "                # Check the click in header. If 1st selection then 1st image and so on\n",
    "                if y1<125:\n",
    "                    if 50<x1<250:\n",
    "                        header = overlayList[0]\n",
    "                        drawColor = (0,0,255)\n",
    "                    elif 250<x1<450:\n",
    "                        header = overlayList[1]\n",
    "                        drawColor = (255,0,0)\n",
    "                    elif 500< x1 < 700:\n",
    "                        header = overlayList[2]\n",
    "                        drawColor = (0,255,0)\n",
    "                    elif 750 < x1 < 950:\n",
    "                        header = overlayList[3]\n",
    "                        drawColor = (0,0,0)\n",
    "                cv2.rectangle(img,(x1,y1-25),(x2,y2+25),drawColor,cv2.FILLED)\n",
    "                        \n",
    "#                     else: \n",
    "#                         header = overlayList[0]\n",
    "\n",
    "            # 5. If drawing mode - Index finger is up\n",
    "            if fingers[1] and fingers[2] == False:\n",
    "                cv2.circle(img,(x1,y1),10,drawColor,cv2.FILLED)\n",
    "                print(\"Drawing mode\")\n",
    "                if xp==0 and yp==0:\n",
    "                    xp,yp = x1,y1\n",
    "                \n",
    "                if drawColor == (0,0,0):\n",
    "                    cv2.line(img,(xp,yp),(x1,y1), drawColor,eraserThickness)\n",
    "                    cv2.line(imgCanvas,(xp,yp),(x1,y1),drawColor,eraserThickness)\n",
    "                    \n",
    "                else:\n",
    "                \n",
    "                    cv2.line(img,(xp,yp),(x1,y1), drawColor,brushThickness)\n",
    "                    cv2.line(imgCanvas,(xp,yp),(x1,y1),drawColor,brushThickness)\n",
    "\n",
    "                xp,yp = x1,y1\n",
    "                \n",
    "                \n",
    "                \n",
    "        imgGray = cv2.cvtColor(imgCanvas,cv2.COLOR_BGR2GRAY)\n",
    "        _, imgInv = cv2.threshold(imgGray,50,255,cv2.THRESH_BINARY_INV)\n",
    "        imgInv = cv2.cvtColor(imgInv,cv2.COLOR_GRAY2BGR)\n",
    "        img = cv2.bitwise_and(img,imgInv)\n",
    "        img = cv2.bitwise_or(img,imgCanvas)\n",
    "        \n",
    "        \n",
    "        \n",
    "        \n",
    "        # setting the header image\n",
    "        img[0:125,0:1280] = header\n",
    "#         img = cv2.addWeighted(img,0.5,imgCanvas,0.5,0)\n",
    "        cv2.imshow(\"Image\",img)\n",
    "        cv2.imshow(\"Canvas\",imgCanvas)\n",
    "        if cv2.waitKey(1) == ord('q'):\n",
    "            break            \n",
    "    else:\n",
    "        break\n",
    "        \n",
    "cap.release()\n",
    "cv2.destroyAllWindows()\n",
    "\n",
    "        \n",
    "    "
   ]
  },
  {
   "cell_type": "code",
   "execution_count": null,
   "id": "8c0ac8d3-b5cf-4ee2-aaf0-332c07adb880",
   "metadata": {},
   "outputs": [],
   "source": [
    "! git add virtualPainter.ipynb readme.md header\n",
    "! git commit -m \"13:33/05-01-2022\"\n",
    "! git push origin main"
   ]
  },
  {
   "cell_type": "code",
   "execution_count": null,
   "id": "9fe23b8f-9614-409c-a064-1f1a82f719e2",
   "metadata": {},
   "outputs": [],
   "source": []
  },
  {
   "cell_type": "code",
   "execution_count": null,
   "id": "3d04d6f0-0d98-481d-b155-c3a78d6deb63",
   "metadata": {},
   "outputs": [],
   "source": []
  },
  {
   "cell_type": "code",
   "execution_count": null,
   "id": "7729cdef-f528-4208-bd73-0209527779e0",
   "metadata": {},
   "outputs": [],
   "source": []
  },
  {
   "cell_type": "code",
   "execution_count": null,
   "id": "544d6349-7ac3-4658-ab86-cbc7e271ae12",
   "metadata": {},
   "outputs": [],
   "source": []
  },
  {
   "cell_type": "code",
   "execution_count": null,
   "id": "f1d7e9e6-41ac-46ff-acf3-5731d52f53c6",
   "metadata": {},
   "outputs": [],
   "source": []
  },
  {
   "cell_type": "code",
   "execution_count": null,
   "id": "f9faa249-e320-4599-bed0-6ddd6a1f671f",
   "metadata": {},
   "outputs": [],
   "source": []
  },
  {
   "cell_type": "code",
   "execution_count": null,
   "id": "d83c24ed-a195-4d24-ba51-452d0ecd0daa",
   "metadata": {},
   "outputs": [],
   "source": []
  },
  {
   "cell_type": "code",
   "execution_count": null,
   "id": "3c76e159-bc20-4a82-9060-0d7369bd08d8",
   "metadata": {},
   "outputs": [],
   "source": []
  }
 ],
 "metadata": {
  "kernelspec": {
   "display_name": "Python [conda env:cvprojenv]",
   "language": "python",
   "name": "conda-env-cvprojenv-py"
  },
  "language_info": {
   "codemirror_mode": {
    "name": "ipython",
    "version": 3
   },
   "file_extension": ".py",
   "mimetype": "text/x-python",
   "name": "python",
   "nbconvert_exporter": "python",
   "pygments_lexer": "ipython3",
   "version": "3.7.11"
  }
 },
 "nbformat": 4,
 "nbformat_minor": 5
}
